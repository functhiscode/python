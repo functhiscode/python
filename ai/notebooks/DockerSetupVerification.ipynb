{
 "cells": [
  {
   "cell_type": "markdown",
   "id": "e7432214-78b4-4883-b850-76940c2b177f",
   "metadata": {},
   "source": [
    "# Tips\n",
    "\n",
    "* https://www.dataschool.io/jupyter-notebook-keyboard-shortcuts/\n",
    "* https://mystmd.org/guide/quickstart-myst-markdown\n",
    "* https://github.com/executablebooks/jupyterlab-myst\n"
   ]
  },
  {
   "cell_type": "code",
   "execution_count": 1,
   "id": "554a11c4-91fc-4c55-9a76-f1611b975d24",
   "metadata": {},
   "outputs": [
    {
     "name": "stderr",
     "output_type": "stream",
     "text": [
      "2024-05-30 19:32:44.696999: I tensorflow/core/platform/cpu_feature_guard.cc:210] This TensorFlow binary is optimized to use available CPU instructions in performance-critical operations.\n",
      "To enable the following instructions: AVX2 FMA, in other operations, rebuild TensorFlow with the appropriate compiler flags.\n"
     ]
    }
   ],
   "source": [
    "import pandas\n",
    "import re\n",
    "import tensorflow as tf\n",
    "import torch\n",
    "import keras\n",
    "import cv2\n",
    "import django\n",
    "import flask\n",
    "import bokeh\n",
    "import numpy\n",
    "import matplotlib\n",
    "import scipy\n",
    "import seaborn\n",
    "import scikitplot\n",
    "import torchaudio\n",
    "import torchvision"
   ]
  },
  {
   "cell_type": "code",
   "execution_count": null,
   "id": "f2045ef0-88ad-41b5-bc79-62ed8bff2775",
   "metadata": {},
   "outputs": [],
   "source": []
  },
  {
   "cell_type": "code",
   "execution_count": 2,
   "id": "cd46af59-9476-4097-a765-40afd1a46f09",
   "metadata": {},
   "outputs": [
    {
     "name": "stdout",
     "output_type": "stream",
     "text": [
      "WARNING:tensorflow:From /tmp/ipykernel_2380/337460670.py:1: is_gpu_available (from tensorflow.python.framework.test_util) is deprecated and will be removed in a future version.\n",
      "Instructions for updating:\n",
      "Use `tf.config.list_physical_devices('GPU')` instead.\n"
     ]
    },
    {
     "name": "stderr",
     "output_type": "stream",
     "text": [
      "2024-05-30 19:32:56.484190: I external/local_xla/xla/stream_executor/cuda/cuda_executor.cc:984] could not open file to read NUMA node: /sys/bus/pci/devices/0000:01:00.0/numa_node\n",
      "Your kernel may have been built without NUMA support.\n",
      "2024-05-30 19:32:56.489983: I external/local_xla/xla/stream_executor/cuda/cuda_executor.cc:984] could not open file to read NUMA node: /sys/bus/pci/devices/0000:01:00.0/numa_node\n",
      "Your kernel may have been built without NUMA support.\n",
      "2024-05-30 19:32:56.490043: I external/local_xla/xla/stream_executor/cuda/cuda_executor.cc:984] could not open file to read NUMA node: /sys/bus/pci/devices/0000:01:00.0/numa_node\n",
      "Your kernel may have been built without NUMA support.\n",
      "2024-05-30 19:32:56.730965: I external/local_xla/xla/stream_executor/cuda/cuda_executor.cc:984] could not open file to read NUMA node: /sys/bus/pci/devices/0000:01:00.0/numa_node\n",
      "Your kernel may have been built without NUMA support.\n",
      "2024-05-30 19:32:56.731073: I external/local_xla/xla/stream_executor/cuda/cuda_executor.cc:984] could not open file to read NUMA node: /sys/bus/pci/devices/0000:01:00.0/numa_node\n",
      "Your kernel may have been built without NUMA support.\n",
      "2024-05-30 19:32:56.731090: I tensorflow/core/common_runtime/gpu/gpu"
     ]
    },
    {
     "data": {
      "text/plain": [
       "True"
      ]
     },
     "execution_count": 2,
     "metadata": {},
     "output_type": "execute_result"
    },
    {
     "name": "stderr",
     "output_type": "stream",
     "text": [
      "_device.cc:2019] Could not identify NUMA node of platform GPU id 0, defaulting to 0.  Your kernel may not have been built with NUMA support.\n",
      "2024-05-30 19:32:56.731141: I external/local_xla/xla/stream_executor/cuda/cuda_executor.cc:984] could not open file to read NUMA node: /sys/bus/pci/devices/0000:01:00.0/numa_node\n",
      "Your kernel may have been built without NUMA support.\n",
      "2024-05-30 19:32:56.731924: I tensorflow/core/common_runtime/gpu/gpu_device.cc:1928] Created device /device:GPU:0 with 1416 MB memory:  -> device: 0, name: NVIDIA GeForce MX150, pci bus id: 0000:01:00.0, compute capability: 6.1\n"
     ]
    }
   ],
   "source": [
    "tf.test.is_gpu_available()"
   ]
  },
  {
   "cell_type": "code",
   "execution_count": 3,
   "id": "67a20cca-b1a9-45db-83d0-95b8533b80ec",
   "metadata": {},
   "outputs": [
    {
     "name": "stderr",
     "output_type": "stream",
     "text": [
      "2024-05-30 19:32:56.751833: I external/local_xla/xla/stream_executor/cuda/cuda_executor.cc:984] could not open file to read NUMA node: /sys/bus/pci/devices/0000:01:00.0/numa_node\n",
      "Your kernel may have been built without NUMA support.\n",
      "2024-05-30 19:32:56.751966: I external/local_xla/xla/stream_executor/cuda/cuda_executor.cc:984] could not open file to read NUMA node: /sys/bus/pci/devices/0000:01:00.0/numa_node\n",
      "Your kernel may have been built without NUMA support.\n",
      "2024-05-30 19:32:56.752009: I external/local_xla/xla/stream_executor/cuda/cuda_executor.cc:984] could not open file to read NUMA node: /sys/bus/pci/devices/0000:01:00.0/numa_node\n",
      "Your kernel may have been built without NUMA support.\n",
      "2024-05-30 19:32:56.752387: I external/local_xla/xla/stream_executor/cuda/cuda_executor.cc:984] could not open file to read NUMA node: /sys/bus/pci/devices/0000:01:00.0/numa_node\n",
      "Your kernel may have been built without NUMA support.\n",
      "2024-05-30 19:32:56.752411: I tensorflow/core/common_runtime/gpu/gpu_device.cc:2019] Could not identify NUMA node of platform GPU id 0, defaulting to 0.  Your kernel may not have been built with NUMA support.\n",
      "2024-05-30 19:32:56.752459: I external/local_xla/xla/stream_executor/cuda/cuda_executor.cc:984] could not open file to read NUMA node: /sys/bus/pci/devices/0000:01:00.0/numa_node\n",
      "Your kernel may have been built without NUMA support.\n",
      "2024-05-30 19:32:56.752484: I tensorflow/core/common_runtime/gpu/gpu_device.cc:1928] Created device /device:GPU:0 with 1416 MB memory:  -> device: 0, name: NVIDIA GeForce MX150, pci bus id: 0000:01:00.0, compute capability: 6.1\n"
     ]
    },
    {
     "data": {
      "text/plain": [
       "'/device:GPU:0'"
      ]
     },
     "execution_count": 3,
     "metadata": {},
     "output_type": "execute_result"
    }
   ],
   "source": [
    "tf.test.gpu_device_name()"
   ]
  },
  {
   "cell_type": "code",
   "execution_count": 4,
   "id": "6a802556-ff67-4193-b2d0-f8b76a0060f2",
   "metadata": {},
   "outputs": [
    {
     "data": {
      "text/plain": [
       "True"
      ]
     },
     "execution_count": 4,
     "metadata": {},
     "output_type": "execute_result"
    }
   ],
   "source": [
    "tf.test.is_built_with_cuda()"
   ]
  },
  {
   "cell_type": "code",
   "execution_count": 5,
   "id": "5760c46a-609d-42fe-bf85-a890ee28386d",
   "metadata": {},
   "outputs": [
    {
     "name": "stderr",
     "output_type": "stream",
     "text": [
      "2024-05-30 19:32:56.834710: I external/local_xla/xla/stream_executor/cuda/cuda_executor.cc:984] could not open file to read NUMA node: /sys/bus/pci/devices/0000:01:00.0/numa_node\n",
      "Your kernel may have been built without NUMA support.\n",
      "2024-05-30 19:32:56.834915: I external/local_xla/xla/stream_executor/cuda/cuda_executor.cc:984] could not open file to read NUMA node: /sys/bus/pci/devices/0000:01:00.0/numa_node\n",
      "Your kernel may have been built without NUMA support.\n",
      "2024-05-30 19:32:56.835044: I external/local_xla/xla/stream_executor/cuda/cuda_executor.cc:984] could not open file to read NUMA node: /sys/bus/pci/devices/0000:01:00.0/numa_node\n",
      "Your kernel may have been built without NUMA support.\n"
     ]
    },
    {
     "data": {
      "text/plain": [
       "[PhysicalDevice(name='/physical_device:GPU:0', device_type='GPU')]"
      ]
     },
     "execution_count": 5,
     "metadata": {},
     "output_type": "execute_result"
    }
   ],
   "source": [
    "tf.config.list_physical_devices('GPU')\n",
    "\n",
    "\n"
   ]
  },
  {
   "cell_type": "code",
   "execution_count": 2,
   "id": "3ecfadd7-121b-4056-ae6e-bdbf9fca7f88",
   "metadata": {},
   "outputs": [
    {
     "data": {
      "text/plain": [
       "['',\n",
       " '/app/venv/lib/python3.11/site-packages',\n",
       " '/tf/notebooks',\n",
       " '/usr/lib/python311.zip',\n",
       " '/usr/lib/python3.11',\n",
       " '/usr/lib/python3.11/lib-dynload',\n",
       " '/usr/local/lib/python3.11/dist-packages',\n",
       " '/usr/lib/python3/dist-packages']"
      ]
     },
     "execution_count": 2,
     "metadata": {},
     "output_type": "execute_result"
    }
   ],
   "source": [
    "import sys\n",
    "sys.path"
   ]
  },
  {
   "cell_type": "code",
   "execution_count": 3,
   "id": "f146ffd5-113e-4cf2-95f7-e414aebd4a2c",
   "metadata": {},
   "outputs": [
    {
     "name": "stdout",
     "output_type": "stream",
     "text": [
      "absl-py==2.1.0\n",
      "aiohttp==3.9.5\n",
      "aiosignal==1.3.1\n",
      "asgiref==3.8.1\n",
      "asttokens==2.4.1\n",
      "attrs==23.2.0\n",
      "Automat==22.10.0\n",
      "beautifulsoup4==4.12.3\n",
      "blinker==1.8.2\n",
      "bokeh==3.4.1\n",
      "boto3==1.34.119\n",
      "botocore==1.34.119\n",
      "brewer2mpl==1.4.1\n",
      "category-encoders==2.6.3\n",
      "certifi==2024.6.2\n",
      "cffi==1.16.0\n",
      "charset-normalizer==3.3.2\n",
      "click==8.1.7\n",
      "cloudpickle==3.0.0\n",
      "comm==0.2.2\n",
      "constantly==23.10.4\n",
      "contourpy==1.2.1\n",
      "cryptography==42.0.8\n",
      "cssselect==1.2.0\n",
      "cycler==0.12.1\n",
      "Cython==3.0.10\n",
      "dash==2.17.0\n",
      "dash-core-components==2.0.0\n",
      "dash-html-components==2.0.0\n",
      "dash-table==5.0.0\n",
      "decorator==5.1.1\n",
      "defusedxml==0.7.1\n",
      "deprecation==2.1.0\n",
      "Django==5.0.6\n",
      "docker-pycreds==0.4.0\n",
      "executing==2.0.1\n",
      "fastjsonschema==2.19.1\n",
      "filelock==3.14.0\n",
      "Flask==3.0.3\n",
      "fonttools==4.53.0\n",
      "frozenlist==1.4.1\n",
      "fsspec==2024.6.0\n",
      "ggplot==0.11.5\n",
      "gitdb==4.0.11\n",
      "GitPython==3.1.43\n",
      "h11==0.14.0\n",
      "h5py==3.11.0\n",
      "html5lib==1.1\n",
      "huggingface-hub==0.23.2\n",
      "hyperlink==21.0.0\n",
      "HyperPyYAML==1.2.2\n",
      "idna==3.7\n",
      "imbalanced-learn==0.12.3\n",
      "importlib_metadata==7.1.0\n",
      "incremental==22.10.0\n",
      "ipython==8.25.0\n",
      "ipywidgets==8.1.3\n",
      "itemadapter==0.9.0\n",
      "itemloaders==1.3.1\n",
      "itsdangerous==2.2.0\n",
      "jedi==0.19.1\n",
      "Jinja2==3.1.4\n",
      "jmespath==1.0.1\n",
      "joblib==1.3.2\n",
      "jsonschema==4.22.0\n",
      "jsonschema-specifications==2023.12.1\n",
      "jupyter_core==5.7.2\n",
      "jupyterlab_widgets==3.0.11\n",
      "kaleido==0.2.1\n",
      "keras==3.3.3\n",
      "kiwisolver==1.4.5\n",
      "lightgbm==4.3.0\n",
      "lightning==2.2.5\n",
      "lightning-utilities==0.11.2\n",
      "llvmlite==0.42.0\n",
      "lxml==5.2.2\n",
      "markdown-it-py==3.0.0\n",
      "MarkupSafe==2.1.5\n",
      "matplotlib==3.7.5\n",
      "matplotlib-inline==0.1.7\n",
      "mdurl==0.1.2\n",
      "mechanize==0.4.10\n",
      "ml-dtypes==0.4.0\n",
      "mpmath==1.3.0\n",
      "multidict==6.0.5\n",
      "namex==0.0.8\n",
      "nbformat==5.10.4\n",
      "nest-asyncio==1.6.0\n",
      "networkx==3.3\n",
      "numba==0.59.1\n",
      "numexpr==2.10.0\n",
      "numpy==1.26.4\n",
      "nvidia-cublas-cu12==12.1.3.1\n",
      "nvidia-cuda-cupti-cu12==12.1.105\n",
      "nvidia-cuda-nvrtc-cu12==12.1.105\n",
      "nvidia-cuda-runtime-cu12==12.1.105\n",
      "nvidia-cudnn-cu12==8.9.2.26\n",
      "nvidia-cufft-cu12==11.0.2.54\n",
      "nvidia-curand-cu12==10.3.2.106\n",
      "nvidia-cusolver-cu12==11.4.5.107\n",
      "nvidia-cusparse-cu12==12.1.0.106\n",
      "nvidia-nccl-cu12==2.20.5\n",
      "nvidia-nvjitlink-cu12==12.5.40\n",
      "nvidia-nvtx-cu12==12.1.105\n",
      "opencv-python==4.10.0.82\n",
      "optree==0.11.0\n",
      "orjson==3.10.3\n",
      "outcome==1.3.0.post0\n",
      "packaging==24.0\n",
      "pandas==2.1.4\n",
      "parsel==1.9.1\n",
      "parso==0.8.4\n",
      "patsy==0.5.6\n",
      "pexpect==4.9.0\n",
      "pillow==10.3.0\n",
      "platformdirs==4.2.2\n",
      "plotly==5.22.0\n",
      "plotly-resampler==0.10.0\n",
      "pmdarima==2.0.4\n",
      "polars==0.20.31\n",
      "prompt_toolkit==3.0.46\n",
      "Protego==0.3.1\n",
      "protobuf==4.25.3\n",
      "psutil==5.9.8\n",
      "ptflops==0.7.3\n",
      "ptyprocess==0.7.0\n",
      "pure-eval==0.2.2\n",
      "pyasn1==0.6.0\n",
      "pyasn1_modules==0.4.0\n",
      "pycaret==3.3.2\n",
      "pycparser==2.22\n",
      "pycurl==7.45.3\n",
      "PyDispatcher==2.0.7\n",
      "pydot==2.0.0\n",
      "Pygments==2.18.0\n",
      "pyod==2.0.0\n",
      "pyOpenSSL==24.1.0\n",
      "pyparsing==3.1.2\n",
      "pyquery==2.0.0\n",
      "PySocks==1.7.1\n",
      "pytesseract==0.3.10\n",
      "python-dateutil==2.9.0.post0\n",
      "python-dotenv==1.0.1\n",
      "pytorch-lightning==2.2.5\n",
      "pytz==2024.1\n",
      "PyYAML==6.0.1\n",
      "queuelib==1.7.0\n",
      "referencing==0.35.1\n",
      "requests==2.32.3\n",
      "requests-file==2.1.0\n",
      "retrying==1.3.4\n",
      "rich==13.7.1\n",
      "rpds-py==0.18.1\n",
      "ruamel.yaml==0.18.6\n",
      "ruamel.yaml.clib==0.2.8\n",
      "s3transfer==0.10.1\n",
      "schemdraw==0.15\n",
      "scikit-base==0.7.8\n",
      "scikit-learn==1.4.2\n",
      "scikit-plot==0.3.7\n",
      "scipy==1.11.4\n",
      "Scrapy==2.11.2\n",
      "seaborn==0.13.2\n",
      "selenium==4.21.0\n",
      "sentencepiece==0.2.0\n",
      "sentry-sdk==2.4.0\n",
      "serpapi==0.1.5\n",
      "service-identity==24.1.0\n",
      "setproctitle==1.3.3\n",
      "six==1.16.0\n",
      "sktime==0.26.0\n",
      "smmap==5.0.1\n",
      "sniffio==1.3.1\n",
      "sortedcontainers==2.4.0\n",
      "soupsieve==2.5\n",
      "speechbrain==1.0.0\n",
      "sqlparse==0.5.0\n",
      "stack-data==0.6.3\n",
      "statsmodels==0.14.2\n",
      "sympy==1.12.1\n",
      "tbats==1.1.3\n",
      "tenacity==8.3.0\n",
      "Theano==1.0.5\n",
      "threadpoolctl==3.5.0\n",
      "tldextract==5.1.2\n",
      "torch==2.3.0\n",
      "torchaudio==2.3.0\n",
      "torchmetrics==1.4.0.post0\n",
      "torchvision==0.18.0\n",
      "tornado==6.4\n",
      "tqdm==4.66.4\n",
      "traitlets==5.14.3\n",
      "trio==0.25.1\n",
      "trio-websocket==0.11.1\n",
      "triton==2.3.0\n",
      "tsdownsample==0.1.3\n",
      "Twisted==24.3.0\n",
      "typing_extensions==4.12.1\n",
      "tzdata==2024.1\n",
      "urllib3==2.2.1\n",
      "w3lib==2.1.2\n",
      "wandb==0.17.0\n",
      "wcwidth==0.2.13\n",
      "webencodings==0.5.1\n",
      "Werkzeug==3.0.3\n",
      "widgetsnbextension==4.0.11\n",
      "wsproto==1.2.0\n",
      "wurlitzer==3.1.0\n",
      "xlrd==2.0.1\n",
      "xxhash==3.4.1\n",
      "xyzservices==2024.4.0\n",
      "yarl==1.9.4\n",
      "yellowbrick==1.5\n",
      "zipp==3.19.2\n",
      "zope.interface==6.4.post2\n"
     ]
    }
   ],
   "source": [
    "!pip freeze"
   ]
  },
  {
   "cell_type": "code",
   "execution_count": null,
   "id": "f14891c5-9c5e-4850-aa80-4a432910b08d",
   "metadata": {},
   "outputs": [],
   "source": []
  }
 ],
 "metadata": {
  "kernelspec": {
   "display_name": "Python 3 (ipykernel)",
   "language": "python",
   "name": "python3"
  },
  "language_info": {
   "codemirror_mode": {
    "name": "ipython",
    "version": 3
   },
   "file_extension": ".py",
   "mimetype": "text/x-python",
   "name": "python",
   "nbconvert_exporter": "python",
   "pygments_lexer": "ipython3",
   "version": "3.11.0rc1"
  }
 },
 "nbformat": 4,
 "nbformat_minor": 5
}
