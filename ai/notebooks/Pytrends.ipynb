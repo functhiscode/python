{
 "cells": [
  {
   "cell_type": "code",
   "execution_count": 1,
   "id": "c12b5408-1a56-4681-95e6-7803a3925329",
   "metadata": {},
   "outputs": [
    {
     "name": "stdout",
     "output_type": "stream",
     "text": [
      "Collecting pytrends\n",
      "  Downloading pytrends-4.9.2-py3-none-any.whl (15 kB)\n",
      "Requirement already satisfied: lxml in /app/venv/lib/python3.11/site-packages (from pytrends) (5.2.2)\n",
      "Requirement already satisfied: requests>=2.0 in /app/venv/lib/python3.11/site-packages (from pytrends) (2.32.2)\n",
      "Requirement already satisfied: pandas>=0.25 in /app/venv/lib/python3.11/site-packages (from pytrends) (2.1.4)\n",
      "Requirement already satisfied: pytz>=2020.1 in /app/venv/lib/python3.11/site-packages (from pandas>=0.25->pytrends) (2024.1)\n",
      "Requirement already satisfied: tzdata>=2022.1 in /app/venv/lib/python3.11/site-packages (from pandas>=0.25->pytrends) (2024.1)\n",
      "Requirement already satisfied: numpy<2,>=1.23.2 in /app/venv/lib/python3.11/site-packages (from pandas>=0.25->pytrends) (1.26.4)\n",
      "Requirement already satisfied: python-dateutil>=2.8.2 in /app/venv/lib/python3.11/site-packages (from pandas>=0.25->pytrends) (2.9.0.post0)\n",
      "Requirement already satisfied: idna<4,>=2.5 in /app/venv/lib/python3.11/site-packages (from requests>=2.0->pytrends) (3.7)\n",
      "Requirement already satisfied: charset-normalizer<4,>=2 in /app/venv/lib/python3.11/site-packages (from requests>=2.0->pytrends) (3.3.2)\n",
      "Requirement already satisfied: urllib3<3,>=1.21.1 in /app/venv/lib/python3.11/site-packages (from requests>=2.0->pytrends) (2.2.1)\n",
      "Requirement already satisfied: certifi>=2017.4.17 in /app/venv/lib/python3.11/site-packages (from requests>=2.0->pytrends) (2024.2.2)\n",
      "Requirement already satisfied: six>=1.5 in /app/venv/lib/python3.11/site-packages (from python-dateutil>=2.8.2->pandas>=0.25->pytrends) (1.16.0)\n",
      "Installing collected packages: pytrends\n",
      "Successfully installed pytrends-4.9.2\n"
     ]
    }
   ],
   "source": [
    "!pip install pytrends"
   ]
  },
  {
   "cell_type": "markdown",
   "id": "32d9d355-3c76-4221-acac-635a27edf929",
   "metadata": {},
   "source": [
    "# Guide\n",
    "\n",
    "* https://hackernoon.com/how-to-use-google-trends-api-with-python\n",
    "* https://forbrains.co.uk/international_tools/earth_timezones?ref=hackernoon.com"
   ]
  },
  {
   "cell_type": "code",
   "execution_count": null,
   "id": "d395c519-57bd-4dc9-8e81-4c3f31072c7d",
   "metadata": {},
   "outputs": [],
   "source": []
  },
  {
   "cell_type": "code",
   "execution_count": 10,
   "id": "855d55db-ee95-4b2a-8a28-9846e727150f",
   "metadata": {},
   "outputs": [],
   "source": [
    "# connect to google \n",
    "\n",
    "from pytrends.request import TrendReq\n",
    "\n",
    "pytrends = TrendReq(hl='en-US', tz=-420) "
   ]
  },
  {
   "cell_type": "code",
   "execution_count": 11,
   "id": "e386e3c5-cef1-4d97-91a7-b19801f30f9a",
   "metadata": {},
   "outputs": [],
   "source": [
    "kw_list = [\"machine learning\"] # list of keywords to get data \n",
    "\n",
    "pytrends.build_payload(kw_list, cat=0, timeframe='today 12-m')"
   ]
  },
  {
   "cell_type": "code",
   "execution_count": 12,
   "id": "d5eb9d6a-f0ed-44e8-a920-a54dc1b96b3c",
   "metadata": {},
   "outputs": [
    {
     "ename": "TooManyRequestsError",
     "evalue": "The request failed: Google returned a response with code 429",
     "output_type": "error",
     "traceback": [
      "\u001b[0;31m---------------------------------------------------------------------------\u001b[0m",
      "\u001b[0;31mTooManyRequestsError\u001b[0m                      Traceback (most recent call last)",
      "Cell \u001b[0;32mIn[12], line 2\u001b[0m\n\u001b[1;32m      1\u001b[0m \u001b[38;5;66;03m#1 Interest over Time\u001b[39;00m\n\u001b[0;32m----> 2\u001b[0m data \u001b[38;5;241m=\u001b[39m \u001b[43mpytrends\u001b[49m\u001b[38;5;241;43m.\u001b[39;49m\u001b[43minterest_over_time\u001b[49m\u001b[43m(\u001b[49m\u001b[43m)\u001b[49m \n\u001b[1;32m      3\u001b[0m data \u001b[38;5;241m=\u001b[39m data\u001b[38;5;241m.\u001b[39mreset_index() \n\u001b[1;32m      6\u001b[0m \u001b[38;5;28;01mimport\u001b[39;00m \u001b[38;5;21;01mplotly\u001b[39;00m\u001b[38;5;21;01m.\u001b[39;00m\u001b[38;5;21;01mexpress\u001b[39;00m \u001b[38;5;28;01mas\u001b[39;00m \u001b[38;5;21;01mpx\u001b[39;00m\n",
      "File \u001b[0;32m/app/venv/lib/python3.11/site-packages/pytrends/request.py:232\u001b[0m, in \u001b[0;36mTrendReq.interest_over_time\u001b[0;34m(self)\u001b[0m\n\u001b[1;32m    224\u001b[0m over_time_payload \u001b[38;5;241m=\u001b[39m {\n\u001b[1;32m    225\u001b[0m     \u001b[38;5;66;03m# convert to string as requests will mangle\u001b[39;00m\n\u001b[1;32m    226\u001b[0m     \u001b[38;5;124m'\u001b[39m\u001b[38;5;124mreq\u001b[39m\u001b[38;5;124m'\u001b[39m: json\u001b[38;5;241m.\u001b[39mdumps(\u001b[38;5;28mself\u001b[39m\u001b[38;5;241m.\u001b[39minterest_over_time_widget[\u001b[38;5;124m'\u001b[39m\u001b[38;5;124mrequest\u001b[39m\u001b[38;5;124m'\u001b[39m]),\n\u001b[1;32m    227\u001b[0m     \u001b[38;5;124m'\u001b[39m\u001b[38;5;124mtoken\u001b[39m\u001b[38;5;124m'\u001b[39m: \u001b[38;5;28mself\u001b[39m\u001b[38;5;241m.\u001b[39minterest_over_time_widget[\u001b[38;5;124m'\u001b[39m\u001b[38;5;124mtoken\u001b[39m\u001b[38;5;124m'\u001b[39m],\n\u001b[1;32m    228\u001b[0m     \u001b[38;5;124m'\u001b[39m\u001b[38;5;124mtz\u001b[39m\u001b[38;5;124m'\u001b[39m: \u001b[38;5;28mself\u001b[39m\u001b[38;5;241m.\u001b[39mtz\n\u001b[1;32m    229\u001b[0m }\n\u001b[1;32m    231\u001b[0m \u001b[38;5;66;03m# make the request and parse the returned json\u001b[39;00m\n\u001b[0;32m--> 232\u001b[0m req_json \u001b[38;5;241m=\u001b[39m \u001b[38;5;28;43mself\u001b[39;49m\u001b[38;5;241;43m.\u001b[39;49m\u001b[43m_get_data\u001b[49m\u001b[43m(\u001b[49m\n\u001b[1;32m    233\u001b[0m \u001b[43m    \u001b[49m\u001b[43murl\u001b[49m\u001b[38;5;241;43m=\u001b[39;49m\u001b[43mTrendReq\u001b[49m\u001b[38;5;241;43m.\u001b[39;49m\u001b[43mINTEREST_OVER_TIME_URL\u001b[49m\u001b[43m,\u001b[49m\n\u001b[1;32m    234\u001b[0m \u001b[43m    \u001b[49m\u001b[43mmethod\u001b[49m\u001b[38;5;241;43m=\u001b[39;49m\u001b[43mTrendReq\u001b[49m\u001b[38;5;241;43m.\u001b[39;49m\u001b[43mGET_METHOD\u001b[49m\u001b[43m,\u001b[49m\n\u001b[1;32m    235\u001b[0m \u001b[43m    \u001b[49m\u001b[43mtrim_chars\u001b[49m\u001b[38;5;241;43m=\u001b[39;49m\u001b[38;5;241;43m5\u001b[39;49m\u001b[43m,\u001b[49m\n\u001b[1;32m    236\u001b[0m \u001b[43m    \u001b[49m\u001b[43mparams\u001b[49m\u001b[38;5;241;43m=\u001b[39;49m\u001b[43mover_time_payload\u001b[49m\u001b[43m,\u001b[49m\n\u001b[1;32m    237\u001b[0m \u001b[43m\u001b[49m\u001b[43m)\u001b[49m\n\u001b[1;32m    239\u001b[0m df \u001b[38;5;241m=\u001b[39m pd\u001b[38;5;241m.\u001b[39mDataFrame(req_json[\u001b[38;5;124m'\u001b[39m\u001b[38;5;124mdefault\u001b[39m\u001b[38;5;124m'\u001b[39m][\u001b[38;5;124m'\u001b[39m\u001b[38;5;124mtimelineData\u001b[39m\u001b[38;5;124m'\u001b[39m])\n\u001b[1;32m    240\u001b[0m \u001b[38;5;28;01mif\u001b[39;00m (df\u001b[38;5;241m.\u001b[39mempty):\n",
      "File \u001b[0;32m/app/venv/lib/python3.11/site-packages/pytrends/request.py:159\u001b[0m, in \u001b[0;36mTrendReq._get_data\u001b[0;34m(self, url, method, trim_chars, **kwargs)\u001b[0m\n\u001b[1;32m    157\u001b[0m \u001b[38;5;28;01melse\u001b[39;00m:\n\u001b[1;32m    158\u001b[0m     \u001b[38;5;28;01mif\u001b[39;00m response\u001b[38;5;241m.\u001b[39mstatus_code \u001b[38;5;241m==\u001b[39m status_codes\u001b[38;5;241m.\u001b[39mcodes\u001b[38;5;241m.\u001b[39mtoo_many_requests:\n\u001b[0;32m--> 159\u001b[0m         \u001b[38;5;28;01mraise\u001b[39;00m exceptions\u001b[38;5;241m.\u001b[39mTooManyRequestsError\u001b[38;5;241m.\u001b[39mfrom_response(response)\n\u001b[1;32m    160\u001b[0m     \u001b[38;5;28;01mraise\u001b[39;00m exceptions\u001b[38;5;241m.\u001b[39mResponseError\u001b[38;5;241m.\u001b[39mfrom_response(response)\n",
      "\u001b[0;31mTooManyRequestsError\u001b[0m: The request failed: Google returned a response with code 429"
     ]
    }
   ],
   "source": [
    "#1 Interest over Time\n",
    "data = pytrends.interest_over_time() \n",
    "data = data.reset_index() \n",
    "\n",
    "\n",
    "import plotly.express as px\n",
    "\n",
    "fig = px.line(data, x=\"date\", y=['machine learning'], title='Keyword Web Search Interest Over Time')\n",
    "fig.show() "
   ]
  },
  {
   "cell_type": "code",
   "execution_count": 13,
   "id": "cf42903e-edaf-40f1-b3a3-4051ae3439eb",
   "metadata": {},
   "outputs": [
    {
     "ename": "NotImplementedError",
     "evalue": "This method has been removed for incorrectness. It will be removed completely in v5.\nIf you'd like similar functionality, please try implementing it yourself and consider submitting a pull request to add it to pytrends.\n          \nThere is discussion at:\nhttps://github.com/GeneralMills/pytrends/pull/542",
     "output_type": "error",
     "traceback": [
      "\u001b[0;31m---------------------------------------------------------------------------\u001b[0m",
      "\u001b[0;31mNotImplementedError\u001b[0m                       Traceback (most recent call last)",
      "Cell \u001b[0;32mIn[13], line 1\u001b[0m\n\u001b[0;32m----> 1\u001b[0m \u001b[43mpytrends\u001b[49m\u001b[38;5;241;43m.\u001b[39;49m\u001b[43mget_historical_interest\u001b[49m\u001b[43m(\u001b[49m\u001b[43mkw_list\u001b[49m\u001b[43m,\u001b[49m\u001b[43m \u001b[49m\u001b[43myear_start\u001b[49m\u001b[38;5;241;43m=\u001b[39;49m\u001b[38;5;241;43m2021\u001b[39;49m\u001b[43m,\u001b[49m\u001b[43m \u001b[49m\u001b[43mmonth_start\u001b[49m\u001b[38;5;241;43m=\u001b[39;49m\u001b[38;5;241;43m9\u001b[39;49m\u001b[43m,\u001b[49m\u001b[43m \u001b[49m\u001b[43mday_start\u001b[49m\u001b[38;5;241;43m=\u001b[39;49m\u001b[38;5;241;43m1\u001b[39;49m\u001b[43m,\u001b[49m\u001b[43m \u001b[49m\u001b[43mhour_start\u001b[49m\u001b[38;5;241;43m=\u001b[39;49m\u001b[38;5;241;43m0\u001b[39;49m\u001b[43m,\u001b[49m\u001b[43m \u001b[49m\u001b[43myear_end\u001b[49m\u001b[38;5;241;43m=\u001b[39;49m\u001b[38;5;241;43m2021\u001b[39;49m\u001b[43m,\u001b[49m\u001b[43m \u001b[49m\u001b[43mmonth_end\u001b[49m\u001b[38;5;241;43m=\u001b[39;49m\u001b[38;5;241;43m9\u001b[39;49m\u001b[43m,\u001b[49m\u001b[43m \u001b[49m\u001b[43mday_end\u001b[49m\u001b[38;5;241;43m=\u001b[39;49m\u001b[38;5;241;43m30\u001b[39;49m\u001b[43m,\u001b[49m\u001b[43m \u001b[49m\u001b[43mhour_end\u001b[49m\u001b[38;5;241;43m=\u001b[39;49m\u001b[38;5;241;43m0\u001b[39;49m\u001b[43m,\u001b[49m\u001b[43m \u001b[49m\u001b[43mcat\u001b[49m\u001b[38;5;241;43m=\u001b[39;49m\u001b[38;5;241;43m0\u001b[39;49m\u001b[43m,\u001b[49m\u001b[43m \u001b[49m\u001b[43msleep\u001b[49m\u001b[38;5;241;43m=\u001b[39;49m\u001b[38;5;241;43m0\u001b[39;49m\u001b[43m)\u001b[49m\n",
      "File \u001b[0;32m/app/venv/lib/python3.11/site-packages/pytrends/request.py:588\u001b[0m, in \u001b[0;36mTrendReq.get_historical_interest\u001b[0;34m(self, *args, **kwargs)\u001b[0m\n\u001b[1;32m    587\u001b[0m     \u001b[38;5;28;01mdef\u001b[39;00m \u001b[38;5;21mget_historical_interest\u001b[39m(\u001b[38;5;28mself\u001b[39m, \u001b[38;5;241m*\u001b[39margs, \u001b[38;5;241m*\u001b[39m\u001b[38;5;241m*\u001b[39mkwargs):\n\u001b[0;32m--> 588\u001b[0m         \u001b[38;5;28;01mraise\u001b[39;00m \u001b[38;5;167;01mNotImplementedError\u001b[39;00m(\n\u001b[1;32m    589\u001b[0m \u001b[38;5;250m            \u001b[39m\u001b[38;5;124;03m\"\"\"This method has been removed for incorrectness. It will be removed completely in v5.\u001b[39;00m\n\u001b[1;32m    590\u001b[0m \u001b[38;5;124;03mIf you'd like similar functionality, please try implementing it yourself and consider submitting a pull request to add it to pytrends.\u001b[39;00m\n\u001b[1;32m    591\u001b[0m \u001b[38;5;124;03m          \u001b[39;00m\n\u001b[1;32m    592\u001b[0m \u001b[38;5;124;03mThere is discussion at:\u001b[39;00m\n\u001b[1;32m    593\u001b[0m \u001b[38;5;124;03mhttps://github.com/GeneralMills/pytrends/pull/542\"\"\"\u001b[39;00m\n\u001b[1;32m    594\u001b[0m         )\n",
      "\u001b[0;31mNotImplementedError\u001b[0m: This method has been removed for incorrectness. It will be removed completely in v5.\nIf you'd like similar functionality, please try implementing it yourself and consider submitting a pull request to add it to pytrends.\n          \nThere is discussion at:\nhttps://github.com/GeneralMills/pytrends/pull/542"
     ]
    }
   ],
   "source": [
    "pytrends.get_historical_interest(kw_list, year_start=2021, month_start=9, day_start=1, hour_start=0, year_end=2021, month_end=9, day_end=30, hour_end=0, cat=0, sleep=0)"
   ]
  },
  {
   "cell_type": "code",
   "execution_count": 15,
   "id": "505347d5-b3e9-4946-b984-dee10e21926a",
   "metadata": {},
   "outputs": [
    {
     "ename": "TooManyRequestsError",
     "evalue": "The request failed: Google returned a response with code 429",
     "output_type": "error",
     "traceback": [
      "\u001b[0;31m---------------------------------------------------------------------------\u001b[0m",
      "\u001b[0;31mTooManyRequestsError\u001b[0m                      Traceback (most recent call last)",
      "Cell \u001b[0;32mIn[15], line 17\u001b[0m\n\u001b[1;32m     10\u001b[0m \u001b[38;5;66;03m# Build the payload for the keyword\u001b[39;00m\n\u001b[1;32m     11\u001b[0m pytrends\u001b[38;5;241m.\u001b[39mbuild_payload(kw_list\u001b[38;5;241m=\u001b[39mkeyword,\n\u001b[1;32m     12\u001b[0m                        cat\u001b[38;5;241m=\u001b[39m\u001b[38;5;241m0\u001b[39m, \u001b[38;5;66;03m# Category \u001b[39;00m\n\u001b[1;32m     13\u001b[0m                        timeframe\u001b[38;5;241m=\u001b[39mtimeframe,\n\u001b[1;32m     14\u001b[0m                        geo\u001b[38;5;241m=\u001b[39m\u001b[38;5;124m'\u001b[39m\u001b[38;5;124mCR\u001b[39m\u001b[38;5;124m'\u001b[39m, \u001b[38;5;66;03m# Geographic location, in this case 'Deutschland'\u001b[39;00m\n\u001b[1;32m     15\u001b[0m                        gprop\u001b[38;5;241m=\u001b[39m\u001b[38;5;124m'\u001b[39m\u001b[38;5;124m'\u001b[39m) \u001b[38;5;66;03m# Google Search Property\u001b[39;00m\n\u001b[0;32m---> 17\u001b[0m interest_over_time_df \u001b[38;5;241m=\u001b[39m \u001b[43mpytrends\u001b[49m\u001b[38;5;241;43m.\u001b[39;49m\u001b[43minterest_over_time\u001b[49m\u001b[43m(\u001b[49m\u001b[43m)\u001b[49m\n",
      "File \u001b[0;32m/app/venv/lib/python3.11/site-packages/pytrends/request.py:232\u001b[0m, in \u001b[0;36mTrendReq.interest_over_time\u001b[0;34m(self)\u001b[0m\n\u001b[1;32m    224\u001b[0m over_time_payload \u001b[38;5;241m=\u001b[39m {\n\u001b[1;32m    225\u001b[0m     \u001b[38;5;66;03m# convert to string as requests will mangle\u001b[39;00m\n\u001b[1;32m    226\u001b[0m     \u001b[38;5;124m'\u001b[39m\u001b[38;5;124mreq\u001b[39m\u001b[38;5;124m'\u001b[39m: json\u001b[38;5;241m.\u001b[39mdumps(\u001b[38;5;28mself\u001b[39m\u001b[38;5;241m.\u001b[39minterest_over_time_widget[\u001b[38;5;124m'\u001b[39m\u001b[38;5;124mrequest\u001b[39m\u001b[38;5;124m'\u001b[39m]),\n\u001b[1;32m    227\u001b[0m     \u001b[38;5;124m'\u001b[39m\u001b[38;5;124mtoken\u001b[39m\u001b[38;5;124m'\u001b[39m: \u001b[38;5;28mself\u001b[39m\u001b[38;5;241m.\u001b[39minterest_over_time_widget[\u001b[38;5;124m'\u001b[39m\u001b[38;5;124mtoken\u001b[39m\u001b[38;5;124m'\u001b[39m],\n\u001b[1;32m    228\u001b[0m     \u001b[38;5;124m'\u001b[39m\u001b[38;5;124mtz\u001b[39m\u001b[38;5;124m'\u001b[39m: \u001b[38;5;28mself\u001b[39m\u001b[38;5;241m.\u001b[39mtz\n\u001b[1;32m    229\u001b[0m }\n\u001b[1;32m    231\u001b[0m \u001b[38;5;66;03m# make the request and parse the returned json\u001b[39;00m\n\u001b[0;32m--> 232\u001b[0m req_json \u001b[38;5;241m=\u001b[39m \u001b[38;5;28;43mself\u001b[39;49m\u001b[38;5;241;43m.\u001b[39;49m\u001b[43m_get_data\u001b[49m\u001b[43m(\u001b[49m\n\u001b[1;32m    233\u001b[0m \u001b[43m    \u001b[49m\u001b[43murl\u001b[49m\u001b[38;5;241;43m=\u001b[39;49m\u001b[43mTrendReq\u001b[49m\u001b[38;5;241;43m.\u001b[39;49m\u001b[43mINTEREST_OVER_TIME_URL\u001b[49m\u001b[43m,\u001b[49m\n\u001b[1;32m    234\u001b[0m \u001b[43m    \u001b[49m\u001b[43mmethod\u001b[49m\u001b[38;5;241;43m=\u001b[39;49m\u001b[43mTrendReq\u001b[49m\u001b[38;5;241;43m.\u001b[39;49m\u001b[43mGET_METHOD\u001b[49m\u001b[43m,\u001b[49m\n\u001b[1;32m    235\u001b[0m \u001b[43m    \u001b[49m\u001b[43mtrim_chars\u001b[49m\u001b[38;5;241;43m=\u001b[39;49m\u001b[38;5;241;43m5\u001b[39;49m\u001b[43m,\u001b[49m\n\u001b[1;32m    236\u001b[0m \u001b[43m    \u001b[49m\u001b[43mparams\u001b[49m\u001b[38;5;241;43m=\u001b[39;49m\u001b[43mover_time_payload\u001b[49m\u001b[43m,\u001b[49m\n\u001b[1;32m    237\u001b[0m \u001b[43m\u001b[49m\u001b[43m)\u001b[49m\n\u001b[1;32m    239\u001b[0m df \u001b[38;5;241m=\u001b[39m pd\u001b[38;5;241m.\u001b[39mDataFrame(req_json[\u001b[38;5;124m'\u001b[39m\u001b[38;5;124mdefault\u001b[39m\u001b[38;5;124m'\u001b[39m][\u001b[38;5;124m'\u001b[39m\u001b[38;5;124mtimelineData\u001b[39m\u001b[38;5;124m'\u001b[39m])\n\u001b[1;32m    240\u001b[0m \u001b[38;5;28;01mif\u001b[39;00m (df\u001b[38;5;241m.\u001b[39mempty):\n",
      "File \u001b[0;32m/app/venv/lib/python3.11/site-packages/pytrends/request.py:159\u001b[0m, in \u001b[0;36mTrendReq._get_data\u001b[0;34m(self, url, method, trim_chars, **kwargs)\u001b[0m\n\u001b[1;32m    157\u001b[0m \u001b[38;5;28;01melse\u001b[39;00m:\n\u001b[1;32m    158\u001b[0m     \u001b[38;5;28;01mif\u001b[39;00m response\u001b[38;5;241m.\u001b[39mstatus_code \u001b[38;5;241m==\u001b[39m status_codes\u001b[38;5;241m.\u001b[39mcodes\u001b[38;5;241m.\u001b[39mtoo_many_requests:\n\u001b[0;32m--> 159\u001b[0m         \u001b[38;5;28;01mraise\u001b[39;00m exceptions\u001b[38;5;241m.\u001b[39mTooManyRequestsError\u001b[38;5;241m.\u001b[39mfrom_response(response)\n\u001b[1;32m    160\u001b[0m     \u001b[38;5;28;01mraise\u001b[39;00m exceptions\u001b[38;5;241m.\u001b[39mResponseError\u001b[38;5;241m.\u001b[39mfrom_response(response)\n",
      "\u001b[0;31mTooManyRequestsError\u001b[0m: The request failed: Google returned a response with code 429"
     ]
    }
   ],
   "source": [
    "import time\n",
    "import json\n",
    "\n",
    "# Create pytrends object\n",
    "pytrends = TrendReq(hl='en-US', tz=-420) # 'De' means consider Germany as the search area \n",
    "# Set your keyword and time frame\n",
    "keyword = ['Analytics'] # for example we give 'Data Science' as the search term \n",
    "timeframe = 'today 5-y'  # Time frame: last year\n",
    "\n",
    "# Build the payload for the keyword\n",
    "pytrends.build_payload(kw_list=keyword,\n",
    "                       cat=0, # Category \n",
    "                       timeframe=timeframe,\n",
    "                       geo='CR', # Geographic location, in this case 'Deutschland'\n",
    "                       gprop='') # Google Search Property\n",
    "\n",
    "interest_over_time_df = pytrends.interest_over_time()"
   ]
  },
  {
   "cell_type": "code",
   "execution_count": 17,
   "id": "da2828a6-460b-462c-b799-de98fcfd6ab6",
   "metadata": {},
   "outputs": [
    {
     "name": "stdout",
     "output_type": "stream",
     "text": [
      "Collecting curl_cffi\n",
      "  Downloading curl_cffi-0.6.4-cp38-abi3-manylinux_2_17_x86_64.manylinux2014_x86_64.whl (5.5 MB)\n",
      "\u001b[2K     \u001b[90m━━━━━━━━━━━━━━━━━━━━━━━━━━━━━━━━━━━━━━━━\u001b[0m \u001b[32m5.5/5.5 MB\u001b[0m \u001b[31m5.8 MB/s\u001b[0m eta \u001b[36m0:00:00\u001b[0m00:01\u001b[0m00:01\u001b[0m\n",
      "\u001b[?25hRequirement already satisfied: cffi>=1.12.0 in /app/venv/lib/python3.11/site-packages (from curl_cffi) (1.16.0)\n",
      "Requirement already satisfied: certifi>=2024.2.2 in /app/venv/lib/python3.11/site-packages (from curl_cffi) (2024.2.2)\n",
      "Requirement already satisfied: pycparser in /app/venv/lib/python3.11/site-packages (from cffi>=1.12.0->curl_cffi) (2.22)\n",
      "Installing collected packages: curl_cffi\n",
      "Successfully installed curl_cffi-0.6.4\n"
     ]
    }
   ],
   "source": [
    "!pip install curl_cffi"
   ]
  },
  {
   "cell_type": "code",
   "execution_count": 18,
   "id": "dd65b98c-812e-4811-85e7-23187598703b",
   "metadata": {},
   "outputs": [
    {
     "name": "stdout",
     "output_type": "stream",
     "text": [
      "Error 429 while fetching trends data, retrying 1/5\n",
      "Error 429 while fetching trends data, retrying 2/5\n",
      "Error 429 while fetching trends data, retrying 3/5\n",
      "Error 429 while fetching trends data, retrying 4/5\n",
      "Error 429 while fetching trends data, retrying 5/5\n",
      "Exceeded maximum retry attempts (5) while fetching trends data.\n",
      "Switching browser version to edge101 and retrying...\n",
      "Error 429 while fetching trends data, retrying 1/5\n",
      "Error 429 while fetching trends data, retrying 2/5\n",
      "{'2024-05-22 18:00:00': 93, '2024-05-22 19:00:00': 96, '2024-05-22 20:00:00': 91, '2024-05-22 21:00:00': 86, '2024-05-22 22:00:00': 90, '2024-05-22 23:00:00': 86, '2024-05-23 00:00:00': 87, '2024-05-23 01:00:00': 86, '2024-05-23 02:00:00': 86, '2024-05-23 03:00:00': 94, '2024-05-23 04:00:00': 92, '2024-05-23 05:00:00': 93, '2024-05-23 06:00:00': 90, '2024-05-23 07:00:00': 86, '2024-05-23 08:00:00': 79, '2024-05-23 09:00:00': 75, '2024-05-23 10:00:00': 77, '2024-05-23 11:00:00': 80, '2024-05-23 12:00:00': 89, '2024-05-23 13:00:00': 94, '2024-05-23 14:00:00': 94, '2024-05-23 15:00:00': 90, '2024-05-23 16:00:00': 99, '2024-05-23 17:00:00': 91, '2024-05-23 18:00:00': 91, '2024-05-23 19:00:00': 95, '2024-05-23 20:00:00': 92, '2024-05-23 21:00:00': 87, '2024-05-23 22:00:00': 88, '2024-05-23 23:00:00': 81, '2024-05-24 00:00:00': 79, '2024-05-24 01:00:00': 84, '2024-05-24 02:00:00': 85, '2024-05-24 03:00:00': 82, '2024-05-24 04:00:00': 86, '2024-05-24 05:00:00': 88, '2024-05-24 06:00:00': 85, '2024-05-24 07:00:00': 88, '2024-05-24 08:00:00': 81, '2024-05-24 09:00:00': 74, '2024-05-24 10:00:00': 71, '2024-05-24 11:00:00': 79, '2024-05-24 12:00:00': 82, '2024-05-24 13:00:00': 87, '2024-05-24 14:00:00': 90, '2024-05-24 15:00:00': 90, '2024-05-24 16:00:00': 87, '2024-05-24 17:00:00': 84, '2024-05-24 18:00:00': 88, '2024-05-24 19:00:00': 84, '2024-05-24 20:00:00': 80, '2024-05-24 21:00:00': 80, '2024-05-24 22:00:00': 77, '2024-05-24 23:00:00': 71, '2024-05-25 00:00:00': 70, '2024-05-25 01:00:00': 70, '2024-05-25 02:00:00': 74, '2024-05-25 03:00:00': 72, '2024-05-25 04:00:00': 79, '2024-05-25 05:00:00': 77, '2024-05-25 06:00:00': 77, '2024-05-25 07:00:00': 76, '2024-05-25 08:00:00': 67, '2024-05-25 09:00:00': 66, '2024-05-25 10:00:00': 63, '2024-05-25 11:00:00': 62, '2024-05-25 12:00:00': 63, '2024-05-25 13:00:00': 64, '2024-05-25 14:00:00': 64, '2024-05-25 15:00:00': 64, '2024-05-25 16:00:00': 67, '2024-05-25 17:00:00': 64, '2024-05-25 18:00:00': 66, '2024-05-25 19:00:00': 62, '2024-05-25 20:00:00': 65, '2024-05-25 21:00:00': 59, '2024-05-25 22:00:00': 61, '2024-05-25 23:00:00': 58, '2024-05-26 00:00:00': 60, '2024-05-26 01:00:00': 60, '2024-05-26 02:00:00': 60, '2024-05-26 03:00:00': 68, '2024-05-26 04:00:00': 68, '2024-05-26 05:00:00': 73, '2024-05-26 06:00:00': 73, '2024-05-26 07:00:00': 67, '2024-05-26 08:00:00': 70, '2024-05-26 09:00:00': 61, '2024-05-26 10:00:00': 54, '2024-05-26 11:00:00': 52, '2024-05-26 12:00:00': 56, '2024-05-26 13:00:00': 58, '2024-05-26 14:00:00': 58, '2024-05-26 15:00:00': 58, '2024-05-26 16:00:00': 57, '2024-05-26 17:00:00': 59, '2024-05-26 18:00:00': 60, '2024-05-26 19:00:00': 62, '2024-05-26 20:00:00': 62, '2024-05-26 21:00:00': 57, '2024-05-26 22:00:00': 58, '2024-05-26 23:00:00': 61, '2024-05-27 00:00:00': 60, '2024-05-27 01:00:00': 61, '2024-05-27 02:00:00': 61, '2024-05-27 03:00:00': 71, '2024-05-27 04:00:00': 73, '2024-05-27 05:00:00': 77, '2024-05-27 06:00:00': 74, '2024-05-27 07:00:00': 71, '2024-05-27 08:00:00': 70, '2024-05-27 09:00:00': 65, '2024-05-27 10:00:00': 58, '2024-05-27 11:00:00': 57, '2024-05-27 12:00:00': 57, '2024-05-27 13:00:00': 61, '2024-05-27 14:00:00': 63, '2024-05-27 15:00:00': 65, '2024-05-27 16:00:00': 65, '2024-05-27 17:00:00': 65, '2024-05-27 18:00:00': 72, '2024-05-27 19:00:00': 70, '2024-05-27 20:00:00': 70, '2024-05-27 21:00:00': 69, '2024-05-27 22:00:00': 69, '2024-05-27 23:00:00': 73, '2024-05-28 00:00:00': 73, '2024-05-28 01:00:00': 79, '2024-05-28 02:00:00': 85, '2024-05-28 03:00:00': 82, '2024-05-28 04:00:00': 82, '2024-05-28 05:00:00': 89, '2024-05-28 06:00:00': 85, '2024-05-28 07:00:00': 81, '2024-05-28 08:00:00': 74, '2024-05-28 09:00:00': 70, '2024-05-28 10:00:00': 71, '2024-05-28 11:00:00': 78, '2024-05-28 12:00:00': 82, '2024-05-28 13:00:00': 94, '2024-05-28 14:00:00': 96, '2024-05-28 15:00:00': 100, '2024-05-28 16:00:00': 89, '2024-05-28 17:00:00': 95, '2024-05-28 18:00:00': 95, '2024-05-28 19:00:00': 94, '2024-05-28 20:00:00': 92, '2024-05-28 21:00:00': 92, '2024-05-28 22:00:00': 90, '2024-05-28 23:00:00': 89, '2024-05-29 00:00:00': 85, '2024-05-29 01:00:00': 85, '2024-05-29 02:00:00': 87, '2024-05-29 03:00:00': 88, '2024-05-29 04:00:00': 90, '2024-05-29 05:00:00': 89, '2024-05-29 06:00:00': 89, '2024-05-29 07:00:00': 85, '2024-05-29 08:00:00': 73, '2024-05-29 09:00:00': 70, '2024-05-29 10:00:00': 79, '2024-05-29 11:00:00': 82, '2024-05-29 12:00:00': 90, '2024-05-29 13:00:00': 94, '2024-05-29 14:00:00': 97, '2024-05-29 15:00:00': 94, '2024-05-29 16:00:00': 97, '2024-05-29 17:00:00': 99, '2024-05-29 18:00:00': 99}\n"
     ]
    }
   ],
   "source": [
    "import json\n",
    "import urllib.parse\n",
    "from datetime import datetime, timedelta\n",
    "from curl_cffi import requests\n",
    "import time\n",
    "\n",
    "def build_payload(keywords, timeframe='now 7-d', geo='US'):\n",
    "    token_payload = {\n",
    "        'hl': 'en-US',\n",
    "        'tz': '0',\n",
    "        'req': {\n",
    "            'comparisonItem': [{'keyword': keyword, 'time': timeframe, 'geo': geo} for keyword in keywords],\n",
    "            'category': 0,\n",
    "            'property': ''\n",
    "        }\n",
    "    }\n",
    "    token_payload['req'] = json.dumps(token_payload['req'])\n",
    "    return token_payload\n",
    "\n",
    "def convert_to_desired_format(raw_data):\n",
    "    trend_data = {}\n",
    "    for entry in raw_data['default']['timelineData']:\n",
    "        timestamp = int(entry['time'])\n",
    "        date_time_str = datetime.utcfromtimestamp(timestamp).strftime('%Y-%m-%d %H:%M:%S')\n",
    "        value = entry['value'][0]\n",
    "        trend_data[date_time_str] = value\n",
    "    return trend_data\n",
    "\n",
    "# Cookies\n",
    "def get_google_cookies(impersonate_version='chrome110'):\n",
    "    with requests.Session() as session:\n",
    "        session.get(\"https://www.google.com\", impersonate=impersonate_version)\n",
    "        return session.cookies\n",
    "\n",
    "def fetch_trends_data(keywords, days_ago=7, geo='US', hl='en-US', max_retries=5, browser_version='chrome110', browser_switch_retries=2):\n",
    "    browser_versions = ['chrome110', 'edge101', 'chrome107', 'chrome104', 'chrome100', 'chrome101', 'chrome99']\n",
    "    current_browser_version_index = browser_versions.index(browser_version)\n",
    "    cookies = get_google_cookies(impersonate_version=browser_versions[current_browser_version_index])\n",
    "\n",
    "    for browser_retry in range(browser_switch_retries + 1):\n",
    "        data_fetched = False  # Reset data_fetched to False at the beginning of each browser_retry\n",
    "        with requests.Session() as s:\n",
    "            # phase 1: token\n",
    "            for retry in range(max_retries):\n",
    "                time.sleep(2)\n",
    "                token_payload = build_payload(keywords)\n",
    "                url = 'https://trends.google.com/trends/api/explore'\n",
    "                params = urllib.parse.urlencode(token_payload)\n",
    "                full_url = f\"{url}?{params}\"\n",
    "                response = s.get(full_url, impersonate=browser_versions[current_browser_version_index], cookies=cookies)\n",
    "                if response.status_code == 200:\n",
    "                    content = response.text[4:]\n",
    "                    try:\n",
    "                        data = json.loads(content)\n",
    "                        widgets = data['widgets']\n",
    "                        tokens = {}\n",
    "                        request = {}\n",
    "                        for widget in widgets:\n",
    "                            if widget['id'] == 'TIMESERIES':\n",
    "                                tokens['timeseries'] = widget['token']\n",
    "                                request['timeseries'] = widget['request']\n",
    "                        break  # Break out of the retry loop as we got the token\n",
    "                    except json.JSONDecodeError:\n",
    "                        print(f\"Failed to decode JSON while fetching token, retrying {retry + 1}/{max_retries}\")\n",
    "                else:\n",
    "                    print(f\"Error {response.status_code} while fetching token, retrying {retry + 1}/{max_retries}\")\n",
    "            else:\n",
    "                print(f\"Exceeded maximum retry attempts ({max_retries}) while fetching token. Exiting...\")\n",
    "                return None\n",
    "\n",
    "            # phase 2: trends data\n",
    "            for retry in range(max_retries):\n",
    "                time.sleep(5)\n",
    "                req_string = json.dumps(request['timeseries'], separators=(',', ':'))\n",
    "                encoded_req = urllib.parse.quote(req_string, safe=':,+')\n",
    "                url = f\"https://trends.google.com/trends/api/widgetdata/multiline?hl={hl}&tz=0&req={encoded_req}&token={tokens['timeseries']}&tz=0\"\n",
    "                response = s.get(url, impersonate=browser_versions[current_browser_version_index], cookies=cookies)\n",
    "                if response.status_code == 200:\n",
    "                    content = response.text[5:]\n",
    "                    try:\n",
    "                        raw_data = json.loads(content)\n",
    "                        # Convert raw data\n",
    "                        trend_data = convert_to_desired_format(raw_data)\n",
    "                        data_fetched = True  # Set data_fetched to True as we have successfully fetched the trend data\n",
    "                        return trend_data\n",
    "                    except json.JSONDecodeError:\n",
    "                        print(f\"Failed to decode JSON while fetching trends data, retrying {retry + 1}/{max_retries}\")\n",
    "                else:\n",
    "                    print(f\"Error {response.status_code} while fetching trends data, retrying {retry + 1}/{max_retries}\")\n",
    "            else:\n",
    "                print(f\"Exceeded maximum retry attempts ({max_retries}) while fetching trends data.\")\n",
    "\n",
    "        # change browser\n",
    "        if not data_fetched and browser_retry < browser_switch_retries:\n",
    "            time.sleep(5)\n",
    "            current_browser_version_index = (current_browser_version_index + 1) % len(browser_versions)\n",
    "            print(f\"Switching browser version to {browser_versions[current_browser_version_index]} and retrying...\")\n",
    "\n",
    "    print(f\"Exceeded maximum browser switch attempts ({browser_switch_retries}). Exiting...\")\n",
    "    return None\n",
    "\n",
    "# Example\n",
    "keywords = [\"test\"]\n",
    "trends_data = fetch_trends_data(keywords)\n",
    "print(trends_data)"
   ]
  },
  {
   "cell_type": "code",
   "execution_count": null,
   "id": "c2200b5e-14f9-46b7-9f7f-321db16d7272",
   "metadata": {},
   "outputs": [],
   "source": []
  }
 ],
 "metadata": {
  "kernelspec": {
   "display_name": "Python 3 (ipykernel)",
   "language": "python",
   "name": "python3"
  },
  "language_info": {
   "codemirror_mode": {
    "name": "ipython",
    "version": 3
   },
   "file_extension": ".py",
   "mimetype": "text/x-python",
   "name": "python",
   "nbconvert_exporter": "python",
   "pygments_lexer": "ipython3",
   "version": "3.11.0rc1"
  }
 },
 "nbformat": 4,
 "nbformat_minor": 5
}
